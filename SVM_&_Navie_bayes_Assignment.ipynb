{
 "cells": [
  {
   "cell_type": "code",
   "execution_count": null,
   "metadata": {
    "id": "Cb2qxMs1eXvt"
   },
   "outputs": [],
   "source": [
    "################################################### Theoretical Questions #################################################################################"
   ]
  },
  {
   "cell_type": "code",
   "execution_count": null,
   "metadata": {
    "id": "Uppg4Us1ecs5"
   },
   "outputs": [],
   "source": [
    "1. What is a Support Vector Machine (SVM)?\n",
    "Ans:\n",
    "A Support Vector Machine (SVM) is a machine learning algorithm used for classification and regression tasks. \n",
    "It works by finding the best hyperplane (a line or plane) that separates the data into different classes. SVM aims to maximize the margin \n",
    "between the classes, making it a robust and effective model for handling high-dimensional data."
   ]
  },
  {
   "cell_type": "code",
   "execution_count": null,
   "metadata": {
    "id": "BdYI5F0Ze4zu"
   },
   "outputs": [],
   "source": [
    "**2. What is the difference between Hard Margin and Soft Margin SVM?\n",
    "\n",
    "Ans:\n",
    "In Support Vector Machines (SVMs), the main difference between Hard Margin and Soft Margin is how they handle the separation of classes.\n",
    "Hard Margin SVM:\n",
    "Assumes the data is linearly separable.\n",
    "Tries to find the hyperplane that maximally separates the classes with no misclassifications.\n",
    "Does not allow for any data points to be on the wrong side of the hyperplane.\n",
    "Uses a linear kernel and focuses on maximizing the margin between classes.\n",
    "Soft Margin SVM:\n",
    "Allows for some misclassifications by introducing slack variables.\n",
    "Tries to find a balance between maximizing the margin and minimizing the misclassification error.\n",
    "Can handle non-linearly separable data using kernels like polynomial, RBF, etc.\n",
    "Regularization parameter (C) controls the trade-off between margin and misclassification."
   ]
  },
  {
   "cell_type": "markdown",
   "metadata": {
    "id": "XhhwqTBLgYp-"
   },
   "source": [
    "**3.  What is the mathematical intuition behind SVM?**\n",
    "\n",
    "Ans:\n",
    "The mathematical intuition behind Support Vector Machines (SVMs) involves finding the optimal hyperplane that maximally separates classes in the feature space. Here's a breakdown:\n",
    "Hyperplane Equation: w^T x + b = 0, where w is the weight vector, x is the input feature vector, and b is the bias term.\n",
    "\n",
    "Margin: The distance between the hyperplane and the nearest data points (support vectors) is maximized. The margin is calculated as 2/||w||.\n",
    "\n",
    "Objective Function: SVM aims to minimize ||w||^2/2 (maximize the margin) while ensuring correct classification.\n",
    "\n",
    "Constraints: For linearly separable data, the constraints are y_i (w^T x_i + b) ≥ 1 for all i, where y_i is the class label.\n",
    "\n",
    "Lagrange Multipliers: The optimization problem is solved using Lagrange multipliers, which introduce dual variables α_i.\n",
    "\n",
    "Kernel Trick: For non-linearly separable data, SVM uses kernels (e.g., polynomial, RBF) to map the data to a higher-dimensional space, allowing for linear separation."
   ]
  },
  {
   "cell_type": "markdown",
   "metadata": {
    "id": "aUbKFYN2gnoq"
   },
   "source": [
    "4.  What is the role of Lagrange Multipliers in SVM?\n",
    "\n",
    "Ans:\n",
    "In SVM, Lagrange Multipliers play a crucial role in solving the constrained optimization problem. Here's their role:\n",
    "Introducing Dual Variables: Lagrange Multipliers (α_i) are introduced to convert the primal problem (minimizing ||w||^2/2) into a dual problem.\n",
    "\n",
    "Handling Constraints: They incorporate the constraints (y_i (w^T x_i + b) ≥ 1) into the optimization problem, allowing SVM to find the optimal hyperplane.\n",
    "\n",
    "Simplifying Optimization: The dual problem is often easier to solve than the primal problem, especially when using kernels.\n",
    "\n",
    "Sparse Solution: The Lagrange Multipliers (α_i) are non-zero only for support vectors, leading to a sparse solution.\n",
    "\n",
    "Kernelization: Lagrange Multipliers enable the use of kernels, allowing SVM to operate in high-dimensional spaces without explicitly computing the feature mappings."
   ]
  },
  {
   "cell_type": "markdown",
   "metadata": {
    "id": "dACurorYg2ul"
   },
   "source": [
    "5. What are Support Vectors in SVM?\n",
    "\n",
    "Ans:\n",
    "In Support Vector Machines (SVMs), Support Vectors are the data points that:\n",
    "Lie closest to the hyperplane: They are the points that are most difficult to classify.\n",
    "Define the decision boundary: Support Vectors determine the optimal hyperplane that maximally separates the classes.\n",
    "Have non-zero Lagrange Multipliers: Only Support Vectors have non-zero α_i values, which are the Lagrange Multipliers.\n",
    "Influence the model's predictions: Support Vectors are the most important data points, and removing them can change the decision boundary."
   ]
  },
  {
   "cell_type": "markdown",
   "metadata": {
    "id": "1cbK7beQhDpU"
   },
   "source": [
    "**6. What is a Support Vector Classifier (SVC)?**\n",
    "\n",
    "Ans:\n",
    "A Support Vector Classifier (SVC) is a type of Support Vector Machine (SVM) that:\n",
    "Classifies data: SVC is used for classification problems, where the goal is to predict a categorical label.\n",
    "Finds the optimal hyperplane: SVC finds the hyperplane that maximally separates the classes in the feature space.\n",
    "Uses kernels: SVC can use various kernels (e.g., linear, polynomial, RBF) to handle non-linearly separable data.\n",
    "Soft margin: SVC typically uses a soft margin, allowing for some misclassifications and using regularization parameters (C) to control the trade-off between margin and misclassification."
   ]
  },
  {
   "cell_type": "markdown",
   "metadata": {
    "id": "PNyPSZsShPJC"
   },
   "source": [
    "**7.  What is a Support Vector Regressor (SVR)? **\n",
    "\n",
    "Ans:\n",
    "A Support Vector Regressor (SVR) is a type of Support Vector Machine (SVM) that:\n",
    "Predicts continuous values: SVR is used for regression problems, where the goal is to predict a continuous output variable.\n",
    "Finds the best-fitting line: SVR finds the hyperplane that best fits the data, with a margin of tolerance (ε) around the predictions.\n",
    "Uses kernels: SVR can use various kernels (e.g., linear, polynomial, RBF) to handle non-linear relationships between variables.\n",
    "ε-insensitive loss function: SVR uses an ε-insensitive loss function, which ignores errors within a certain margin (ε) around the predictions."
   ]
  },
  {
   "cell_type": "markdown",
   "metadata": {
    "id": "u5qvN_nwhZ7K"
   },
   "source": [
    "**8. What is the Kernel Trick in SVM?**\n",
    "\n",
    "Ans:\n",
    "The Kernel Trick in SVM:\n",
    "Maps data to higher dimension: Transforms the original data into a higher-dimensional space, making it linearly separable.\n",
    "Avoids explicit computation: Computes the dot product in the higher-dimensional space without explicitly mapping the data.\n",
    "Enables non-linear separation: Allows SVM to handle non-linearly separable data using linear separation in the higher-dimensional space.\n",
    "Common kernels: Examples include:\n",
    "Linear Kernel\n",
    "Polynomial Kernel\n",
    "Radial Basis Function (RBF) Kernel\n",
    "Sigmoid Kernel"
   ]
  },
  {
   "cell_type": "markdown",
   "metadata": {
    "id": "_vPbIxZ9hqdr"
   },
   "source": [
    "**9. Compare Linear Kernel, Polynomial Kernel, and RBF Kernel.**\n",
    "\n",
    "Ans:\n",
    "Here's a comparison of Linear Kernel, Polynomial Kernel, and RBF (Radial Basis Function) Kernel:\n",
    "Linear Kernel\n",
    "Maps data to the original feature space\n",
    "Suitable for linearly separable data\n",
    "Fast and efficient\n",
    "Limited capacity to handle non-linear relationships\n",
    "Polynomial Kernel\n",
    "Maps data to a higher-dimensional space using polynomial transformations\n",
    "Suitable for non-linearly separable data with polynomial relationships\n",
    "Can handle interactions between features\n",
    "Risk of overfitting with high-degree polynomials\n",
    "RBF (Radial Basis Function) Kernel\n",
    "Maps data to an infinite-dimensional space using Gaussian functions\n",
    "Suitable for non-linearly separable data with complex relationships\n",
    "Can handle high-dimensional data and non-linear interactions\n",
    "Risk of overfitting if sigma (σ) is not tuned properly"
   ]
  },
  {
   "cell_type": "markdown",
   "metadata": {
    "id": "tyedDisOiA8o"
   },
   "source": [
    "**10. What is the effect of the C parameter in SVM?**\n",
    "\n",
    "Ans:\n",
    "The C parameter in SVM:\n",
    "Regularization parameter: Controls the trade-off between margin and misclassification.\n",
    "Soft margin: Determines the extent to which SVM allows misclassifications.\n",
    "Large C: Small margin, few misclassifications (may lead to overfitting).\n",
    "Small C: Large margin, more misclassifications (may lead to underfitting).\n",
    "The C parameter affects:\n",
    "Model complexity: Higher C values lead to more complex models.\n",
    "Generalization: Optimal C value balances fit to training data and generalization to new data."
   ]
  },
  {
   "cell_type": "markdown",
   "metadata": {
    "id": "3bL22SxDiRoA"
   },
   "source": [
    "**11. What is the role of the Gamma parameter in RBF Kernel SVM?**\n",
    "\n",
    "Ans:\n",
    "In RBF Kernel SVM, the Gamma (γ) parameter:\n",
    "Controls the spread: Determines the influence of each support vector on the decision boundary.\n",
    "Defines the Gaussian function: γ affects the width of the Gaussian function used in the RBF kernel.\n",
    "Affects model complexity:\n",
    "High γ (small σ): Leads to a narrow Gaussian, resulting in a complex model that may overfit.\n",
    "Low γ (large σ): Leads to a wide Gaussian, resulting in a simpler model that may underfit."
   ]
  },
  {
   "cell_type": "markdown",
   "metadata": {
    "id": "LqmgZoisilDm"
   },
   "source": [
    "**12. What is the Naïve Bayes classifier, and why is it called \"Naïve\"?**\n",
    "\n",
    "Ans:\n",
    "The Naïve Bayes classifier:\n",
    "Probabilistic model: Based on Bayes' theorem, it predicts the probability of a class given the input features.\n",
    "Independence assumption: Assumes that features are conditionally independent given the class label, which is often not true in reality.\n",
    "Simplifies calculations: This assumption simplifies the calculations and makes the model more efficient.\n",
    "It's called \"Naïve\" because:\n",
    "Oversimplifies relationships: The independence assumption is often unrealistic, as features can be correlated.\n",
    "Doesn't account for interactions: Naïve Bayes doesn't capture complex interactions between features."
   ]
  },
  {
   "cell_type": "markdown",
   "metadata": {
    "id": "RihIurXTi5xO"
   },
   "source": [
    "**13.  What is Bayes’ Theorem? **\n",
    "\n",
    "Ans:\n",
    "Bayes' Theorem is a mathematical formula in probability theory, named after Thomas Bayes. It describes how to update the probability of a hypothesis based on new evidence.\n",
    "Mathematically, Bayes' Theorem is stated as:\n",
    "P(H|E) = P(E|H) × P(H) / P(E)\n",
    "Where:\n",
    "P(H|E) is the posterior probability (probability of hypothesis H given evidence E)\n",
    "P(E|H) is the likelihood (probability of evidence E given hypothesis H)\n",
    "P(H) is the prior probability (probability of hypothesis H before considering evidence E)\n",
    "P(E) is the marginal probability (probability of evidence E)"
   ]
  },
  {
   "cell_type": "markdown",
   "metadata": {
    "id": "v8FgoLzIjHTs"
   },
   "source": [
    "**14. Explain the differences between Gaussian Naïve Bayes, Multinomial Naïve Bayes, and Bernoulli Naïve Bayes.**\n",
    "\n",
    "Ans:\n",
    "Here's a comparison of Gaussian Naïve Bayes, Multinomial Naïve Bayes, and Bernoulli Naïve Bayes:\n",
    "Gaussian Naïve Bayes\n",
    "Assumes features follow a Gaussian (normal) distribution\n",
    "Suitable for continuous features\n",
    "Used for real-valued data\n",
    "Multinomial Naïve Bayes\n",
    "Assumes features follow a multinomial distribution\n",
    "Suitable for count data (e.g., word frequencies)\n",
    "Used for text classification and other applications with discrete features\n",
    "Bernoulli Naïve Bayes\n",
    "Assumes features are binary (0/1 or yes/no)\n",
    "Suitable for binary feature data\n",
    "Used for text classification, spam detection, and other applications with binary features\n",
    "The key differences lie in the:\n",
    "Distribution assumption: Each variant assumes a different underlying distribution for the features.\n",
    "Feature type: Gaussian is for continuous features, Multinomial is for count data, and Bernoulli is for binary features.\n",
    "Application: The choice of Naïve Bayes variant depends on the specific problem and data type."
   ]
  },
  {
   "cell_type": "markdown",
   "metadata": {
    "id": "GjPnnlk2jZxB"
   },
   "source": [
    "**15. When should you use Gaussian Naïve Bayes over other variants?**\n",
    "\n",
    "Ans:\n",
    "You should use Gaussian Naïve Bayes when:\n",
    "Features are continuous: Your data consists of real-valued or continuous features.\n",
    "Features follow a normal distribution: The features approximately follow a Gaussian distribution.\n",
    "Real-valued predictions: You're working with real-valued data and want to make predictions based on continuous features."
   ]
  },
  {
   "cell_type": "markdown",
   "metadata": {
    "id": "rvY75Ld9jn2l"
   },
   "source": [
    "**16. What are the key assumptions made by Naïve Bayes?**\n",
    "\n",
    "Ans:\n",
    "The key assumptions made by Naïve Bayes are:\n",
    "Independence of features: Features are assumed to be conditionally independent given the class label.\n",
    "Equal importance of features: All features are treated equally, without considering potential differences in importance.\n",
    "Specific distribution: Depending on the variant, Naïve Bayes assumes a specific distribution for the features (e.g., Gaussian, Multinomial, Bernoulli)."
   ]
  },
  {
   "cell_type": "markdown",
   "metadata": {
    "id": "wWWaXS-Ej3-e"
   },
   "source": [
    "**17. What are the advantages and disadvantages of Naïve Bayes?**\n",
    "\n",
    "Ans:\n",
    "Advantages of Naïve Bayes:\n",
    "Simple and efficient: Easy to implement and computationally efficient.\n",
    "Fast training and prediction: Can handle large datasets quickly.\n",
    "Good for high-dimensional data: Performs well with many features.\n",
    "Robust to irrelevant features: Can ignore irrelevant features.\n",
    "Easy to interpret: Provides clear probabilities and feature contributions.\n",
    "Disadvantages of Naïve Bayes:\n",
    "Independence assumption: Assumes feature independence, which is often not true.\n",
    "Sensitive to correlated features: Can perform poorly with highly correlated features.\n",
    "Not suitable for complex relationships: Struggles with complex interactions between features.\n",
    "Requires careful feature selection: Feature quality and relevance significantly impact performance."
   ]
  },
  {
   "cell_type": "markdown",
   "metadata": {
    "id": "deIMTJZlkETG"
   },
   "source": [
    "**18. Why is Naïve Bayes a good choice for text classification?**\n",
    "\n",
    "Ans:\n",
    "Naïve Bayes is a good choice for text classification because:\n",
    "High dimensionality: Handles large feature spaces (many words or terms) efficiently.\n",
    "Sparse data: Performs well with sparse data, common in text classification.\n",
    "Independence assumption: Word independence assumption is reasonable for many text classification tasks.\n",
    "Fast and scalable: Fast training and prediction make it suitable for large datasets.\n",
    "Simple and interpretable: Provides clear probabilities and feature contributions.\n",
    "Naïve Bayes is particularly effective for:\n",
    "Spam detection\n",
    "Sentiment analysis\n",
    "Topic classification\n",
    "Document categorization"
   ]
  },
  {
   "cell_type": "markdown",
   "metadata": {
    "id": "K6szjWghkQdG"
   },
   "source": [
    "**19. Compare SVM and Naïve Bayes for classification tasks.**\n",
    "\n",
    "Ans:\n",
    "SVM (Support Vector Machine) vs Naïve Bayes:\n",
    "SVM:\n",
    "Strong classification performance: SVM can achieve high accuracy, especially with non-linear kernels.\n",
    "Handling high-dimensional data: SVM can handle high-dimensional data effectively.\n",
    "Robust to noise: SVM is robust to noise and outliers.\n",
    "Complex decision boundaries: SVM can learn complex decision boundaries.\n",
    "Naïve Bayes:\n",
    "Simple and efficient: Naïve Bayes is easy to implement and computationally efficient.\n",
    "Fast training and prediction: Naïve Bayes is fast for training and prediction.\n",
    "Good for text classification: Naïve Bayes performs well for text classification tasks.\n",
    "Interpretable results: Naïve Bayes provides clear probabilities and feature contributions.\n",
    "Key differences:\n",
    "Complexity: SVM can learn complex decision boundaries, while Naïve Bayes assumes independence.\n",
    "Training speed: Naïve Bayes is generally faster than SVM.\n",
    "Interpretability: Naïve Bayes provides more interpretable results."
   ]
  },
  {
   "cell_type": "markdown",
   "metadata": {
    "id": "JpZ2xHfCkfQg"
   },
   "source": [
    "**20.  How does Laplace Smoothing help in Naïve Bayes?**\n",
    "\n",
    "Ans:\n",
    "Laplace Smoothing (also known as Additive Smoothing) helps in Naïve Bayes by:\n",
    "Avoiding zero probabilities: Adds a small value to the numerator and denominator of the probability calculations, ensuring that no feature has a zero probability.\n",
    "Handling unseen data: Helps the model handle unseen data or features that were not present in the training set.\n",
    "Improving robustness: Reduces the impact of rare or outlier features on the model's predictions.\n",
    "Stabilizing estimates: Provides more stable probability estimates, especially when dealing with small sample sizes."
   ]
  },
  {
   "cell_type": "markdown",
   "metadata": {
    "id": "65jPXe4jV5UK"
   },
   "source": [
    "**Practical**"
   ]
  },
  {
   "cell_type": "markdown",
   "metadata": {
    "id": "pN300uuKV9lh"
   },
   "source": [
    "**21.  Write a Python program to train an SVM Classifier on the Iris dataset and evaluate accuracy.**"
   ]
  },
  {
   "cell_type": "code",
   "execution_count": null,
   "metadata": {
    "colab": {
     "base_uri": "https://localhost:8080/"
    },
    "id": "qZDkbnizVVnV",
    "outputId": "63037509-2cc3-408b-e418-dc5a8433db94"
   },
   "outputs": [
    {
     "name": "stdout",
     "output_type": "stream",
     "text": [
      "1.0\n"
     ]
    }
   ],
   "source": [
    "from sklearn.datasets import load_iris\n",
    "from sklearn.model_selection import train_test_split\n",
    "\n",
    "dataset= load_iris()\n",
    "\n",
    "x= dataset.data\n",
    "y= dataset.target\n",
    "\n",
    "x_train,x_test,y_train,y_test= train_test_split(x,y,test_size=0.20,random_state=42)\n",
    "\n",
    "from sklearn.svm import SVC\n",
    "svc= SVC(kernel='linear')\n",
    "svc.fit(x_train,y_train)\n",
    "\n",
    "y_pred= svc.predict(x_test)\n",
    "y_pred\n",
    "\n",
    "from sklearn.metrics import accuracy_score\n",
    "accuracy= accuracy_score(y_pred,y_test)\n",
    "print(accuracy)"
   ]
  },
  {
   "cell_type": "markdown",
   "metadata": {
    "id": "ZZQkmh7VcYoi"
   },
   "source": [
    "22. Write a Python program to train two SVM classifiers with Linear and RBF kernels on the Wine dataset, then\n",
    "compare their accuracies."
   ]
  },
  {
   "cell_type": "code",
   "execution_count": null,
   "metadata": {
    "colab": {
     "base_uri": "https://localhost:8080/",
     "height": 508
    },
    "id": "6xKx0AtWkxqZ",
    "outputId": "ef8de0ab-720c-4aea-cbc3-23324cd3b16a"
   },
   "outputs": [
    {
     "name": "stdout",
     "output_type": "stream",
     "text": [
      "Accuracy with Linear Kernel: 0.97\n",
      "Accuracy with RBF Kernel: 1.00\n"
     ]
    },
    {
     "data": {
      "image/png": "[encoded data removed]",
      "text/plain": [
       "<Figure size 640x480 with 1 Axes>"
      ]
     },
     "metadata": {},
     "output_type": "display_data"
    }
   ],
   "source": [
    "import numpy as np\n",
    "import matplotlib.pyplot as plt\n",
    "from sklearn import datasets\n",
    "from sklearn.model_selection import train_test_split\n",
    "from sklearn.svm import SVC\n",
    "from sklearn.preprocessing import StandardScaler\n",
    "from sklearn.metrics import accuracy_score\n",
    "\n",
    "# Load Wine dataset\n",
    "wine = datasets.load_wine()\n",
    "X, y = wine.data, wine.target\n",
    "\n",
    "# Split data into training and testing sets\n",
    "X_train, X_test, y_train, y_test = train_test_split(X, y, test_size=0.2, random_state=42)\n",
    "\n",
    "# Standardize features\n",
    "scaler = StandardScaler()\n",
    "X_train = scaler.fit_transform(X_train)\n",
    "X_test = scaler.transform(X_test)\n",
    "\n",
    "# Train SVM with Linear kernel\n",
    "svm_linear = SVC(kernel='linear', C=1.0)\n",
    "svm_linear.fit(X_train, y_train)\n",
    "y_pred_linear = svm_linear.predict(X_test)\n",
    "accuracy_linear = accuracy_score(y_test, y_pred_linear)\n",
    "\n",
    "# Train SVM with RBF kernel\n",
    "svm_rbf = SVC(kernel='rbf', C=1.0, gamma='scale')\n",
    "svm_rbf.fit(X_train, y_train)\n",
    "y_pred_rbf = svm_rbf.predict(X_test)\n",
    "accuracy_rbf = accuracy_score(y_test, y_pred_rbf)\n",
    "\n",
    "# Print accuracies\n",
    "print(f\"Accuracy with Linear Kernel: {accuracy_linear:.2f}\")\n",
    "print(f\"Accuracy with RBF Kernel: {accuracy_rbf:.2f}\")\n",
    "\n",
    "# Visualizing comparison\n",
    "kernels = ['Linear', 'RBF']\n",
    "accuracies = [accuracy_linear, accuracy_rbf]\n",
    "\n",
    "plt.bar(kernels, accuracies, color=['blue', 'green'])\n",
    "plt.xlabel(\"Kernel Type\")\n",
    "plt.ylabel(\"Accuracy\")\n",
    "plt.title(\"SVM Kernel Comparison on Wine Dataset\")\n",
    "plt.ylim(0.8, 1)  # Adjusting y-axis for better visualization\n",
    "plt.show()"
   ]
  },
  {
   "cell_type": "markdown",
   "metadata": {
    "id": "IqOoaEJtCy_g"
   },
   "source": [
    "23.  Write a Python program to train an SVM Regressor (SVR) on a housing dataset and evaluate it using Mean\n",
    "Squared Error (MSE)."
   ]
  },
  {
   "cell_type": "code",
   "execution_count": null,
   "metadata": {
    "colab": {
     "base_uri": "https://localhost:8080/"
    },
    "id": "XvZx1ZlXC-33",
    "outputId": "e04c290b-f114-4a65-cc23-75ad19cba8c5"
   },
   "outputs": [
    {
     "name": "stdout",
     "output_type": "stream",
     "text": [
      "mean squared value(lower value is good):  0.58\n"
     ]
    }
   ],
   "source": [
    "import numpy as np\n",
    "import matplotlib.pyplot as plt\n",
    "from sklearn.datasets import fetch_california_housing\n",
    "from sklearn.model_selection import train_test_split\n",
    "from sklearn.svm import SVR\n",
    "from sklearn.preprocessing import StandardScaler\n",
    "from sklearn.metrics import mean_squared_error, accuracy_score\n",
    "\n",
    "house= fetch_california_housing()\n",
    "x,y= house.data, house.target\n",
    "\n",
    "x_train,x_test,y_train,y_test= train_test_split(x,y,test_size=0.20,random_state=42)\n",
    "\n",
    "scaler= StandardScaler()\n",
    "x_train= scaler.fit_transform(x_train)\n",
    "x_test= scaler.transform(x_test)\n",
    "\n",
    "svm= SVR(kernel='linear',C= 1.0,epsilon= 0.1)\n",
    "svm.fit(x_train,y_train)\n",
    "\n",
    "y_pred= svm.predict(x_test)\n",
    "\n",
    "msd= mean_squared_error(y_pred,y_test)\n",
    "print(f'mean squared value(lower value is good): {msd: .2f}')\n"
   ]
  },
  {
   "cell_type": "markdown",
   "metadata": {
    "id": "E9jAsYmbZ_NM"
   },
   "source": [
    "24. Write a Python program to train an SVM Classifier with a Polynomial Kernel and visualize the decision\n",
    "boundary."
   ]
  },
  {
   "cell_type": "code",
   "execution_count": null,
   "metadata": {
    "colab": {
     "base_uri": "https://localhost:8080/",
     "height": 472
    },
    "id": "jb2FL8K-dcvc",
    "outputId": "44c10475-7f4c-46de-ae30-78e9cb786062"
   },
   "outputs": [
    {
     "data": {
      "image/png": "[encoded data removed]",
      "text/plain": [
       "<Figure size 640x480 with 1 Axes>"
      ]
     },
     "metadata": {},
     "output_type": "display_data"
    }
   ],
   "source": [
    "import numpy as np\n",
    "import matplotlib.pyplot as plt\n",
    "from sklearn.svm import SVC\n",
    "from sklearn.datasets import make_moons\n",
    "from sklearn.preprocessing import StandardScaler\n",
    "from sklearn.model_selection import train_test_split\n",
    "\n",
    "# Generate synthetic dataset\n",
    "X, y = make_moons(n_samples=300, noise=0.2, random_state=42)\n",
    "\n",
    "# Split data into training and testing sets\n",
    "X_train, X_test, y_train, y_test = train_test_split(X, y, test_size=0.2, random_state=42)\n",
    "\n",
    "# Standardize features\n",
    "scaler = StandardScaler()\n",
    "X_train = scaler.fit_transform(X_train)\n",
    "X_test = scaler.transform(X_test)\n",
    "\n",
    "# Train SVM classifier with Polynomial Kernel\n",
    "svm_poly = SVC(kernel='poly', degree=3, C=1.0)\n",
    "svm_poly.fit(X_train, y_train)\n",
    "\n",
    "# Function to plot decision boundary\n",
    "def plot_decision_boundary(model, X, y):\n",
    "    x_min, x_max = X[:, 0].min() - 1, X[:, 0].max() + 1\n",
    "    y_min, y_max = X[:, 1].min() - 1, X[:, 1].max() + 1\n",
    "    xx, yy = np.meshgrid(np.linspace(x_min, x_max, 100), np.linspace(y_min, y_max, 100))\n",
    "\n",
    "    Z = model.predict(np.c_[xx.ravel(), yy.ravel()])\n",
    "    Z = Z.reshape(xx.shape)\n",
    "\n",
    "    plt.contourf(xx, yy, Z, alpha=0.3)\n",
    "    plt.scatter(X[:, 0], X[:, 1], c=y, edgecolors='k', cmap=plt.cm.Paired)\n",
    "    plt.title(\"SVM with Polynomial Kernel Decision Boundary\")\n",
    "    plt.xlabel(\"Feature 1\")\n",
    "    plt.ylabel(\"Feature 2\")\n",
    "    plt.show()\n",
    "\n",
    "# Plot decision boundary\n",
    "plot_decision_boundary(svm_poly, X_train, y_train)\n"
   ]
  },
  {
   "cell_type": "markdown",
   "metadata": {
    "id": "c6jDdeDPvRl2"
   },
   "source": [
    "25. Write a Python program to train a Gaussian Naïve Bayes classifier on the Breast Cancer dataset and\n",
    "evaluate accuracy."
   ]
  },
  {
   "cell_type": "code",
   "execution_count": null,
   "metadata": {
    "colab": {
     "base_uri": "https://localhost:8080/"
    },
    "id": "c3DcoE_Twj2l",
    "outputId": "4cdb5ce7-d608-48d3-a0fa-4bd10f6ea6ce"
   },
   "outputs": [
    {
     "name": "stdout",
     "output_type": "stream",
     "text": [
      "accuracy:  0.97\n"
     ]
    }
   ],
   "source": [
    "from sklearn.datasets import load_breast_cancer\n",
    "from sklearn.model_selection import train_test_split\n",
    "from sklearn.naive_bayes import GaussianNB\n",
    "from sklearn.metrics import accuracy_score\n",
    "\n",
    "breast= load_breast_cancer()\n",
    "x,y= breast.data, breast.target\n",
    "\n",
    "x_train,x_test,y_train,y_test= train_test_split(x,y,test_size=0.20,random_state=42)\n",
    "\n",
    "gnb= GaussianNB()\n",
    "gnb.fit(x_train,y_train)\n",
    "\n",
    "y_pred= gnb.predict(x_test)\n",
    "\n",
    "accu= accuracy_score(y_pred,y_test)\n",
    "print(f'accuracy: {accu: .2f}')"
   ]
  },
  {
   "cell_type": "markdown",
   "metadata": {
    "id": "EqD2AVTd0ErT"
   },
   "source": [
    "26. Write a Python program to train a Multinomial Naïve Bayes classifier for text classification using the 20\n",
    "Newsgroups dataset."
   ]
  },
  {
   "cell_type": "code",
   "execution_count": null,
   "metadata": {
    "colab": {
     "base_uri": "https://localhost:8080/"
    },
    "id": "Yk8dC00dvCR0",
    "outputId": "e13a6765-2394-44bd-b3c7-99bb7cbef05b"
   },
   "outputs": [
    {
     "name": "stdout",
     "output_type": "stream",
     "text": [
      "Model Accuracy: 0.7463\n",
      "\n",
      "Classification Report:\n",
      "                    precision    recall  f1-score   support\n",
      "\n",
      "       alt.atheism       0.60      0.86      0.71       155\n",
      "     comp.graphics       0.91      0.89      0.90       195\n",
      "         sci.space       0.75      0.93      0.83       201\n",
      "talk.religion.misc       0.87      0.10      0.18       127\n",
      "\n",
      "          accuracy                           0.75       678\n",
      "         macro avg       0.78      0.69      0.65       678\n",
      "      weighted avg       0.78      0.75      0.70       678\n",
      "\n"
     ]
    }
   ],
   "source": [
    "import numpy as np\n",
    "from sklearn.datasets import fetch_20newsgroups\n",
    "from sklearn.feature_extraction.text import CountVectorizer, TfidfTransformer\n",
    "from sklearn.naive_bayes import MultinomialNB\n",
    "from sklearn.pipeline import Pipeline\n",
    "from sklearn.model_selection import train_test_split\n",
    "from sklearn.metrics import accuracy_score, classification_report\n",
    "\n",
    "# Load the 20 Newsgroups dataset\n",
    "categories = ['alt.atheism', 'comp.graphics', 'sci.space', 'talk.religion.misc']\n",
    "newsgroups = fetch_20newsgroups(subset='all', categories=categories, remove=('headers', 'footers', 'quotes'))\n",
    "X, y = newsgroups.data, newsgroups.target\n",
    "\n",
    "# Split into training and testing sets\n",
    "X_train, X_test, y_train, y_test = train_test_split(X, y, test_size=0.2, random_state=42)\n",
    "\n",
    "# Create a text processing & classification pipeline\n",
    "text_clf = Pipeline([\n",
    "    ('vectorizer', CountVectorizer()),           # Convert text to count vectors\n",
    "    ('tfidf', TfidfTransformer()),               # Apply TF-IDF transformation\n",
    "    ('clf', MultinomialNB())                     # Train Naïve Bayes classifier\n",
    "])\n",
    "\n",
    "# Train the model\n",
    "text_clf.fit(X_train, y_train)\n",
    "\n",
    "# Make predictions\n",
    "y_pred = text_clf.predict(X_test)\n",
    "\n",
    "# Evaluate performance\n",
    "accuracy = accuracy_score(y_test, y_pred)\n",
    "print(f\"Model Accuracy: {accuracy:.4f}\")\n",
    "\n",
    "# Detailed classification report\n",
    "print(\"\\nClassification Report:\")\n",
    "print(classification_report(y_test, y_pred, target_names=categories))\n"
   ]
  },
  {
   "cell_type": "markdown",
   "metadata": {
    "id": "YrUcnBgfpi7_"
   },
   "source": [
    "27. Write a Python program to train an SVM Classifier with different C values and compare the decision\n",
    "boundaries visually."
   ]
  },
  {
   "cell_type": "code",
   "execution_count": null,
   "metadata": {
    "colab": {
     "base_uri": "https://localhost:8080/",
     "height": 314
    },
    "id": "Kn7hLszfQNdC",
    "outputId": "7e5f260d-6547-412e-b1a4-1dd01dbc1fbd"
   },
   "outputs": [
    {
     "data": {
      "image/png": "[encoded data removed]",
      "text/plain": [
       "<Figure size 1500x500 with 3 Axes>"
      ]
     },
     "metadata": {},
     "output_type": "display_data"
    }
   ],
   "source": [
    "import numpy as np\n",
    "import matplotlib.pyplot as plt\n",
    "from sklearn.svm import SVC\n",
    "from sklearn.datasets import make_classification\n",
    "from sklearn.preprocessing import StandardScaler\n",
    "from sklearn.model_selection import train_test_split\n",
    "\n",
    "# Generate synthetic classification data\n",
    "X, y = make_classification(n_samples=300, n_features=2, n_classes=2, n_clusters_per_class=1,n_redundant=0,random_state=42)\n",
    "\n",
    "# Split data into training and testing sets\n",
    "X_train, X_test, y_train, y_test = train_test_split(X, y, test_size=0.2, random_state=42)\n",
    "\n",
    "# Standardize features\n",
    "scaler = StandardScaler()\n",
    "X_train = scaler.fit_transform(X_train)\n",
    "X_test = scaler.transform(X_test)\n",
    "\n",
    "# Function to plot decision boundary\n",
    "def plot_decision_boundary(model, X, y, ax):\n",
    "    x_min, x_max = X[:, 0].min() - 1, X[:, 0].max() + 1\n",
    "    y_min, y_max = X[:, 1].min() - 1, X[:, 1].max() + 1\n",
    "    xx, yy = np.meshgrid(np.linspace(x_min, x_max, 100), np.linspace(y_min, y_max, 100))\n",
    "\n",
    "    Z = model.predict(np.c_[xx.ravel(), yy.ravel()])\n",
    "    Z = Z.reshape(xx.shape)\n",
    "\n",
    "    ax.contourf(xx, yy, Z, alpha=0.3)\n",
    "    ax.scatter(X[:, 0], X[:, 1], c=y, edgecolors='k', cmap=plt.cm.Paired)\n",
    "    ax.set_title(f\"SVM Decision Boundary (C={model.C})\")\n",
    "    ax.set_xlabel(\"Feature 1\")\n",
    "    ax.set_ylabel(\"Feature 2\")\n",
    "\n",
    "# Train and visualize SVM with different C values\n",
    "C_values = [0.1, 1, 10]\n",
    "fig, axes = plt.subplots(1, len(C_values), figsize=(15, 5))\n",
    "\n",
    "for i, C in enumerate(C_values):\n",
    "    svm = SVC(kernel='linear', C=C)\n",
    "    svm.fit(X_train, y_train)\n",
    "    plot_decision_boundary(svm, X_train, y_train, axes[i])\n",
    "\n",
    "plt.tight_layout()\n",
    "plt.show()\n"
   ]
  },
  {
   "cell_type": "markdown",
   "metadata": {
    "id": "KQVgl3JVV2F9"
   },
   "source": [
    "**28. Write a Python program to train a Bernoulli Naïve Bayes classifier for binary classification on a dataset with binary features.**"
   ]
  },
  {
   "cell_type": "code",
   "execution_count": null,
   "metadata": {
    "colab": {
     "base_uri": "https://localhost:8080/"
    },
    "id": "5v0VTY72YEQl",
    "outputId": "a88bc4a0-6c22-40b3-a6cb-c08c9e4c0e38"
   },
   "outputs": [
    {
     "name": "stdout",
     "output_type": "stream",
     "text": [
      "Accuracy: 0.35\n",
      "Classification Report:\n",
      "              precision    recall  f1-score   support\n",
      "\n",
      "           0       0.17      0.11      0.13         9\n",
      "           1       0.43      0.55      0.48        11\n",
      "\n",
      "    accuracy                           0.35        20\n",
      "   macro avg       0.30      0.33      0.31        20\n",
      "weighted avg       0.31      0.35      0.32        20\n",
      "\n"
     ]
    }
   ],
   "source": [
    "import numpy as np\n",
    "import pandas as pd\n",
    "from sklearn.model_selection import train_test_split\n",
    "from sklearn.naive_bayes import BernoulliNB\n",
    "from sklearn.metrics import accuracy_score, classification_report\n",
    "\n",
    "# Generate a sample dataset (binary features)\n",
    "np.random.seed(42)\n",
    "X = np.random.randint(2, size=(100, 5))  # 100 samples, 5 binary features\n",
    "y = np.random.randint(2, size=100)  # Binary target variable\n",
    "\n",
    "# Split the dataset into training and testing sets\n",
    "X_train, X_test, y_train, y_test = train_test_split(X, y, test_size=0.2, random_state=42)\n",
    "\n",
    "# Initialize and train the Bernoulli Naïve Bayes classifier\n",
    "bnb = BernoulliNB()\n",
    "bnb.fit(X_train, y_train)\n",
    "\n",
    "# Make predictions\n",
    "y_pred = bnb.predict(X_test)\n",
    "\n",
    "# Evaluate the model\n",
    "accuracy = accuracy_score(y_test, y_pred)\n",
    "print(f\"Accuracy: {accuracy:.2f}\")\n",
    "print(\"Classification Report:\")\n",
    "print(classification_report(y_test, y_pred))\n"
   ]
  },
  {
   "cell_type": "markdown",
   "metadata": {
    "id": "TK8VXj_rkM__"
   },
   "source": [
    "29. Write a Python program to apply feature scaling before training an SVM model and compare results with\n",
    "unscaled data."
   ]
  },
  {
   "cell_type": "code",
   "execution_count": null,
   "metadata": {
    "colab": {
     "base_uri": "https://localhost:8080/"
    },
    "id": "i1sl6ezLmOz-",
    "outputId": "df52703f-739b-4ef5-b214-731136534009"
   },
   "outputs": [
    {
     "name": "stdout",
     "output_type": "stream",
     "text": [
      "unscaled accuracy:  0.42\n",
      "scaled accuracy: 0.55\n"
     ]
    }
   ],
   "source": [
    "import numpy as np\n",
    "import matplotlib.pyplot as plt\n",
    "from sklearn import datasets\n",
    "from sklearn.model_selection import train_test_split\n",
    "\n",
    "from sklearn.preprocessing import StandardScaler\n",
    "from sklearn.metrics import accuracy_score\n",
    "\n",
    "# Generate a synthetic dataset with varied feature magnitudes\n",
    "np.random.seed(42)\n",
    "X = np.random.rand(200, 3) * [100, 10, 1]  # Different ranges for features\n",
    "y = np.random.randint(2, size=200)  # Binary labels\n",
    "\n",
    "\n",
    "# Split data into training and testing sets\n",
    "X_train, X_test, y_train, y_test = train_test_split(X, y, test_size=0.2, random_state=42)\n",
    "\n",
    "# feature scaling before training\n",
    "from sklearn.svm import SVC\n",
    "scv= SVC(kernel='linear')\n",
    "scv.fit(X_train,y_train)\n",
    "y_pred_unscaled= scv.predict(X_test)\n",
    "accuracy_unscaled= accuracy_score(y_pred_unscaled,y_test)\n",
    "\n",
    "# feature scaling after training\n",
    "scaler= StandardScaler()\n",
    "X_train_scaled= scaler.fit_transform(X_train)\n",
    "X_test_scaled= scaler.transform(X_test)\n",
    "scv.fit(X_train_scaled,y_train)\n",
    "y_pred_scaled= scv.predict(X_test)\n",
    "accuracy_scaled= accuracy_score(y_pred_scaled,y_test)\n",
    "\n",
    "print(f'unscaled accuracy: {accuracy_unscaled: 0.2f}')\n",
    "print(f'scaled accuracy:{accuracy_scaled: 0.2f}')"
   ]
  },
  {
   "cell_type": "markdown",
   "metadata": {
    "id": "I2l2_Phbxsy4"
   },
   "source": [
    "30. Write a Python program to train a Gaussian Naïve Bayes model and compare the predictions before and\n",
    "after Laplace Smoothing."
   ]
  },
  {
   "cell_type": "code",
   "execution_count": null,
   "metadata": {
    "colab": {
     "base_uri": "https://localhost:8080/"
    },
    "id": "QLFEHriGhBzG",
    "outputId": "3d58da8a-8bf1-48e4-e871-689c3ec9eb84"
   },
   "outputs": [
    {
     "name": "stdout",
     "output_type": "stream",
     "text": [
      "accuracy without LS:  0.63\n",
      "accuracy with LS:  0.63\n",
      "\n",
      "Classification Report (Without Smoothing):\n",
      "              precision    recall  f1-score   support\n",
      "\n",
      "           0       0.56      0.60      0.58        25\n",
      "           1       0.70      0.66      0.68        35\n",
      "\n",
      "    accuracy                           0.63        60\n",
      "   macro avg       0.63      0.63      0.63        60\n",
      "weighted avg       0.64      0.63      0.63        60\n",
      "\n",
      "\n",
      "Classification Report (With Smoothing):\n",
      "              precision    recall  f1-score   support\n",
      "\n",
      "           0       0.56      0.60      0.58        25\n",
      "           1       0.70      0.66      0.68        35\n",
      "\n",
      "    accuracy                           0.63        60\n",
      "   macro avg       0.63      0.63      0.63        60\n",
      "weighted avg       0.64      0.63      0.63        60\n",
      "\n"
     ]
    }
   ],
   "source": [
    "import numpy as np\n",
    "import pandas as pd\n",
    "from sklearn.model_selection import train_test_split\n",
    "from sklearn.naive_bayes import GaussianNB\n",
    "from sklearn.metrics import accuracy_score,classification_report\n",
    "\n",
    "# generatin synthetic dataset\n",
    "np.random.seed(42)\n",
    "X= np.random.randn(300,3)*[5,2,1]\n",
    "y= np.random.randint(2,size=300)\n",
    "\n",
    "X_train, X_test, y_train, y_test = train_test_split(X, y, test_size=0.2, random_state=42)\n",
    "\n",
    "# Gaussian Naïve Bayes model before laplace smoothing\n",
    "gnb= GaussianNB()\n",
    "gnb.fit(X_train,y_train)\n",
    "y_pred_beforLS= gnb.predict(X_test)\n",
    "accu_beforLS= accuracy_score(y_pred_beforLS,y_test)\n",
    "\n",
    "# Gaussian Naïve Bayes model after laplace smoothing\n",
    "gnb_after= GaussianNB(var_smoothing=1e-9)\n",
    "gnb_after.fit(X_train,y_train)\n",
    "y_pred_afterLS= gnb.predict(X_test)\n",
    "accu_afterLS= accuracy_score(y_pred_afterLS,y_test)\n",
    "\n",
    "print(f'accuracy without LS: {accu_beforLS: 0.2f}')\n",
    "print(f'accuracy with LS: {accu_afterLS: 0.2f}')\n",
    "\n",
    "print(\"\\nClassification Report (Without Smoothing):\")\n",
    "print(classification_report(y_test, y_pred_beforLS))\n",
    "\n",
    "print(\"\\nClassification Report (With Smoothing):\")\n",
    "print(classification_report(y_test, y_pred_afterLS))"
   ]
  },
  {
   "cell_type": "markdown",
   "metadata": {
    "id": "yMVA-_gJ6oXS"
   },
   "source": [
    "31. Write a Python program to train an SVM Classifier and use GridSearchCV to tune the hyperparameters (C,\n",
    "gamma, kernel)."
   ]
  },
  {
   "cell_type": "code",
   "execution_count": 1,
   "metadata": {
    "colab": {
     "base_uri": "https://localhost:8080/"
    },
    "id": "bq200USF7g1s",
    "outputId": "fef60fe5-4e17-4f9e-ae46-1d03d3366e4a"
   },
   "outputs": [
    {
     "name": "stdout",
     "output_type": "stream",
     "text": [
      "Fitting 5 folds for each of 27 candidates, totalling 135 fits\n",
      "Best Hyperparameters: {'C': 1, 'gamma': 0.001, 'kernel': 'linear'}\n",
      "Accuracy with best parameters: 0.68\n",
      "\n",
      "Classification Report:\n",
      "              precision    recall  f1-score   support\n",
      "\n",
      "           0       0.70      0.73      0.71        22\n",
      "           1       0.65      0.61      0.63        18\n",
      "\n",
      "    accuracy                           0.68        40\n",
      "   macro avg       0.67      0.67      0.67        40\n",
      "weighted avg       0.67      0.68      0.67        40\n",
      "\n"
     ]
    }
   ],
   "source": [
    "import numpy as np\n",
    "import pandas as pd\n",
    "from sklearn.model_selection import train_test_split, GridSearchCV\n",
    "from sklearn.svm import SVC\n",
    "from sklearn.metrics import accuracy_score, classification_report\n",
    "\n",
    "# Generate synthetic dataset (continuous features)\n",
    "np.random.seed(42)\n",
    "X = np.random.rand(200, 5) * [10, 5, 2, 1, 0.5]\n",
    "y = np.random.randint(2, size=200)  # Binary target variable\n",
    "\n",
    "X_train, X_test, y_train, y_test = train_test_split(X, y, test_size=0.2, random_state=42)\n",
    "\n",
    "\n",
    "svm = SVC()\n",
    "\n",
    "\n",
    "param_grid = {\n",
    "    'C': [0.1, 1, 10],  # Regularization parameter\n",
    "    'gamma': [0.001, 0.01, 0.1],  # Kernel coefficient\n",
    "    'kernel': ['linear', 'rbf', 'poly']  # Kernel types\n",
    "}\n",
    "\n",
    "grid_search = GridSearchCV(svm, param_grid, cv=5, scoring='accuracy', verbose=1)\n",
    "grid_search.fit(X_train, y_train)\n",
    "\n",
    "best_params = grid_search.best_params_\n",
    "print(f\"Best Hyperparameters: {best_params}\")\n",
    "\n",
    "# Train final model with optimal parameters\n",
    "best_svm = SVC(**best_params)\n",
    "best_svm.fit(X_train, y_train)\n",
    "\n",
    "\n",
    "y_pred = best_svm.predict(X_test)\n",
    "\n",
    "accuracy = accuracy_score(y_test, y_pred)\n",
    "print(f\"Accuracy with best parameters: {accuracy:.2f}\")\n",
    "print(\"\\nClassification Report:\")\n",
    "print(classification_report(y_test, y_pred))\n"
   ]
  },
  {
   "cell_type": "markdown",
   "metadata": {
    "id": "N3O0zcK4FXIt"
   },
   "source": [
    "32.  Write a Python program to train an SVM Classifier on an imbalanced dataset and apply class weighting and\n",
    "check it improve accuracy."
   ]
  },
  {
   "cell_type": "code",
   "execution_count": 45,
   "metadata": {
    "colab": {
     "base_uri": "https://localhost:8080/",
     "height": 488
    },
    "id": "J80MacAxskg8",
    "outputId": "e619ce19-34a8-42d5-8573-25c9ded0a330"
   },
   "outputs": [
    {
     "name": "stdout",
     "output_type": "stream",
     "text": [
      "accuracy without applying weight:  0.90\n",
      "accuracy with applying weight: 0.90\n"
     ]
    },
    {
     "data": {
      "image/png": "[encoded data removed]",
      "text/plain": [
       "<Figure size 640x480 with 1 Axes>"
      ]
     },
     "metadata": {},
     "output_type": "display_data"
    }
   ],
   "source": [
    "import numpy as np\n",
    "import pandas as pd\n",
    "import matplotlib.pyplot as plt\n",
    "from sklearn.model_selection import train_test_split\n",
    "from sklearn.svm import SVC\n",
    "from sklearn.metrics import accuracy_score, classification_report\n",
    "from sklearn.utils.class_weight import compute_class_weight\n",
    "from sklearn.datasets import make_classification\n",
    "\n",
    "# generating imbalanced dataset\n",
    "X,y= make_classification(n_samples=1000, n_features=20, n_classes=2,weights=[0.9,0.1],random_state=42)\n",
    "\n",
    "X_train, X_test, y_train, y_test = train_test_split(X, y, test_size=0.2, random_state=42)\n",
    "\n",
    "class_weights= compute_class_weight('balanced',classes= np.unique(y),y=y_train)\n",
    "class_weights_dict= {0:class_weights[0],1:class_weights[1]}\n",
    "\n",
    "# training svm without applying weight\n",
    "svm= SVC(kernel= 'rbf',C=1.0,random_state=42)\n",
    "svm.fit(X_train,y_train)\n",
    "y_pred= svm.predict(X_test)\n",
    "accu= accuracy_score(y_pred,y_test)\n",
    "\n",
    "# training svm with applying weight\n",
    "svm_weight= SVC(kernel= 'rbf',class_weight= class_weights_dict, C=1.0,random_state=42)\n",
    "svm_weight.fit(X_train,y_train)\n",
    "y_pred_weight= svm_weight.predict(X_test)\n",
    "accu_weight= accuracy_score(y_pred_weight,y_test)\n",
    "\n",
    "print(f'accuracy without applying weight: {accu: 0.2f}')\n",
    "print(f'accuracy with applying weight: {accu_weight:0.2f}')\n",
    "\n",
    "#visualization\n",
    "labels = ['Without Class Weighting', 'With Class Weighting']\n",
    "accuracies = [accu, accu_weight]\n",
    "\n",
    "plt.bar(labels, accuracies, color=['blue', 'green'])\n",
    "plt.ylabel('Accuracy')\n",
    "plt.title('Effect of Class Weighting on SVM Performance')\n",
    "plt.show()"
   ]
  },
  {
   "cell_type": "markdown",
   "metadata": {
    "id": "xxV8rSpb_uhU"
   },
   "source": [
    "**33. Write a Python program to implement a Naïve Bayes classifier for spam detection using email data.**"
   ]
  },
  {
   "cell_type": "code",
   "execution_count": 10,
   "metadata": {
    "colab": {
     "base_uri": "https://localhost:8080/"
    },
    "id": "t2z9lunFhScZ",
    "outputId": "5dadf554-563d-4523-cd07-dac2be6394f5"
   },
   "outputs": [
    {
     "name": "stdout",
     "output_type": "stream",
     "text": [
      "Accuracy: 0.95\n",
      "Classification Report:\n",
      "              precision    recall  f1-score   support\n",
      "\n",
      "           0       0.95      1.00      0.97       965\n",
      "           1       1.00      0.66      0.80       150\n",
      "\n",
      "    accuracy                           0.95      1115\n",
      "   macro avg       0.97      0.83      0.88      1115\n",
      "weighted avg       0.96      0.95      0.95      1115\n",
      "\n"
     ]
    }
   ],
   "source": [
    "import pandas as pd\n",
    "import numpy as np\n",
    "import re\n",
    "import string\n",
    "from sklearn.feature_extraction.text import CountVectorizer, TfidfTransformer\n",
    "from sklearn.naive_bayes import MultinomialNB\n",
    "from sklearn.pipeline import Pipeline\n",
    "from sklearn.model_selection import train_test_split\n",
    "from sklearn.metrics import accuracy_score, classification_report\n",
    "\n",
    "# Load the dataset\n",
    "df = pd.read_csv(\"spam.csv\", encoding='latin-1')  # Adjust encoding if needed\n",
    "df = df.iloc[:, :2]  # Keeping only necessary columns\n",
    "df.columns = [\"label\", \"message\"]\n",
    "df['label'] = df['label'].map({'ham': 0, 'spam': 1})  # Convert labels to numeric\n",
    "\n",
    "# Preprocessing: Remove punctuation, lowercase\n",
    "def text_preprocess(text):\n",
    "    text = text.lower()\n",
    "    text = re.sub(f\"[{string.punctuation}]\", \"\", text)\n",
    "    return text\n",
    "\n",
    "df[\"message\"] = df[\"message\"].apply(text_preprocess)\n",
    "\n",
    "# Split dataset\n",
    "X_train, X_test, y_train, y_test = train_test_split(df[\"message\"], df[\"label\"], test_size=0.2, random_state=42)\n",
    "\n",
    "# Create a pipeline with TF-IDF and Naïve Bayes classifier\n",
    "spam_detector = Pipeline([\n",
    "    ('vectorizer', CountVectorizer()),\n",
    "    ('tfidf', TfidfTransformer()),\n",
    "    ('classifier', MultinomialNB())\n",
    "])\n",
    "\n",
    "# Train model\n",
    "spam_detector.fit(X_train, y_train)\n",
    "\n",
    "# Predict on test set\n",
    "y_pred = spam_detector.predict(X_test)\n",
    "\n",
    "# Evaluate model\n",
    "print(f\"Accuracy: {accuracy_score(y_test, y_pred):.2f}\")\n",
    "print(\"Classification Report:\")\n",
    "print(classification_report(y_test, y_pred))\n",
    "\n"
   ]
  },
  {
   "cell_type": "markdown",
   "metadata": {
    "id": "8r3UoFCCkzz1"
   },
   "source": [
    "34.  Write a Python program to train an SVM Classifier and a Naïve Bayes Classifier on the same dataset and\n",
    "compare their accuracy."
   ]
  },
  {
   "cell_type": "code",
   "execution_count": 11,
   "metadata": {
    "colab": {
     "base_uri": "https://localhost:8080/"
    },
    "id": "anlwaP28k6jv",
    "outputId": "2914da37-09d6-4b41-fb54-4ab8f41bcab0"
   },
   "outputs": [
    {
     "name": "stdout",
     "output_type": "stream",
     "text": [
      "SVM Accuracy: 0.98\n",
      "Naïve Bayes Accuracy: 0.96\n",
      "\n",
      "SVM Classification Report:\n",
      "              precision    recall  f1-score   support\n",
      "\n",
      "           0       0.98      1.00      0.99       965\n",
      "           1       0.99      0.89      0.93       150\n",
      "\n",
      "    accuracy                           0.98      1115\n",
      "   macro avg       0.98      0.94      0.96      1115\n",
      "weighted avg       0.98      0.98      0.98      1115\n",
      "\n",
      "\n",
      "Naïve Bayes Classification Report:\n",
      "              precision    recall  f1-score   support\n",
      "\n",
      "           0       0.96      1.00      0.98       965\n",
      "           1       1.00      0.72      0.84       150\n",
      "\n",
      "    accuracy                           0.96      1115\n",
      "   macro avg       0.98      0.86      0.91      1115\n",
      "weighted avg       0.96      0.96      0.96      1115\n",
      "\n"
     ]
    }
   ],
   "source": [
    "import pandas as pd\n",
    "import numpy as np\n",
    "from sklearn.feature_extraction.text import CountVectorizer, TfidfTransformer\n",
    "from sklearn.model_selection import train_test_split\n",
    "from sklearn.naive_bayes import MultinomialNB\n",
    "from sklearn.svm import SVC\n",
    "from sklearn.pipeline import Pipeline\n",
    "from sklearn.metrics import accuracy_score, classification_report\n",
    "\n",
    "# Load dataset\n",
    "df = pd.read_csv(\"spam.csv\", encoding='latin-1')  # Adjust encoding if needed\n",
    "df = df.iloc[:, :2]  # Keep relevant columns\n",
    "df.columns = [\"label\", \"message\"]\n",
    "df['label'] = df['label'].map({'ham': 0, 'spam': 1})  # Convert labels to numeric\n",
    "\n",
    "# Split dataset\n",
    "X_train, X_test, y_train, y_test = train_test_split(df[\"message\"], df[\"label\"], test_size=0.2, random_state=42)\n",
    "\n",
    "# Define SVM pipeline\n",
    "svm_pipeline = Pipeline([\n",
    "    ('vectorizer', CountVectorizer()),\n",
    "    ('tfidf', TfidfTransformer()),\n",
    "    ('classifier', SVC(kernel='linear'))\n",
    "])\n",
    "\n",
    "# Define Naïve Bayes pipeline\n",
    "nb_pipeline = Pipeline([\n",
    "    ('vectorizer', CountVectorizer()),\n",
    "    ('tfidf', TfidfTransformer()),\n",
    "    ('classifier', MultinomialNB())\n",
    "])\n",
    "\n",
    "\n",
    "svm_pipeline.fit(X_train, y_train)\n",
    "nb_pipeline.fit(X_train, y_train)\n",
    "\n",
    "# Predictions\n",
    "y_pred_svm = svm_pipeline.predict(X_test)\n",
    "y_pred_nb = nb_pipeline.predict(X_test)\n",
    "\n",
    "# Evaluate models\n",
    "svm_acc = accuracy_score(y_test, y_pred_svm)\n",
    "nb_acc = accuracy_score(y_test, y_pred_nb)\n",
    "\n",
    "print(f\"SVM Accuracy: {svm_acc:.2f}\")\n",
    "print(f\"Naïve Bayes Accuracy: {nb_acc:.2f}\")\n",
    "\n",
    "print(\"\\nSVM Classification Report:\")\n",
    "print(classification_report(y_test, y_pred_svm))\n",
    "\n",
    "print(\"\\nNaïve Bayes Classification Report:\")\n",
    "print(classification_report(y_test, y_pred_nb))\n"
   ]
  },
  {
   "cell_type": "markdown",
   "metadata": {
    "id": "ReYkp62dlN0C"
   },
   "source": [
    "35. Write a Python program to perform feature selection before training a Naïve Bayes classifier and compare\n",
    "results."
   ]
  },
  {
   "cell_type": "code",
   "execution_count": 12,
   "metadata": {
    "colab": {
     "base_uri": "https://localhost:8080/"
    },
    "id": "CYJKk9j5l3OL",
    "outputId": "baad5cb9-2edf-41b8-a3dd-a47a50392f18"
   },
   "outputs": [
    {
     "name": "stdout",
     "output_type": "stream",
     "text": [
      "Accuracy without Feature Selection: 0.97\n",
      "Accuracy with Feature Selection: 0.96\n",
      "\n",
      "Classification Report without Feature Selection:\n",
      "              precision    recall  f1-score   support\n",
      "\n",
      "           0       0.98      0.99      0.98        91\n",
      "           1       0.96      0.94      0.95       115\n",
      "           2       0.98      0.97      0.97       136\n",
      "           3       0.95      0.97      0.96       109\n",
      "\n",
      "    accuracy                           0.97       451\n",
      "   macro avg       0.97      0.97      0.97       451\n",
      "weighted avg       0.97      0.97      0.97       451\n",
      "\n",
      "\n",
      "Classification Report with Feature Selection:\n",
      "              precision    recall  f1-score   support\n",
      "\n",
      "           0       0.99      0.98      0.98        91\n",
      "           1       0.94      0.97      0.95       115\n",
      "           2       0.98      0.95      0.96       136\n",
      "           3       0.95      0.97      0.96       109\n",
      "\n",
      "    accuracy                           0.96       451\n",
      "   macro avg       0.97      0.97      0.97       451\n",
      "weighted avg       0.96      0.96      0.96       451\n",
      "\n"
     ]
    }
   ],
   "source": [
    "import numpy as np\n",
    "import pandas as pd\n",
    "from sklearn.datasets import fetch_20newsgroups\n",
    "from sklearn.feature_extraction.text import CountVectorizer, TfidfTransformer\n",
    "from sklearn.feature_selection import SelectKBest, chi2\n",
    "from sklearn.model_selection import train_test_split\n",
    "from sklearn.naive_bayes import MultinomialNB\n",
    "from sklearn.metrics import accuracy_score, classification_report\n",
    "\n",
    "# Load dataset\n",
    "categories = [\"alt.atheism\", \"comp.graphics\", \"sci.space\", \"rec.sport.baseball\"]  # Selecting a subset\n",
    "data = fetch_20newsgroups(subset=\"train\", categories=categories, shuffle=True, random_state=42)\n",
    "\n",
    "# Create DataFrame\n",
    "df = pd.DataFrame({\"text\": data.data, \"target\": data.target})\n",
    "\n",
    "# Split dataset\n",
    "X_train, X_test, y_train, y_test = train_test_split(df[\"text\"], df[\"target\"], test_size=0.2, random_state=42)\n",
    "\n",
    "# Convert text to numerical features (Bag of Words + TF-IDF)\n",
    "vectorizer = CountVectorizer()\n",
    "X_train_counts = vectorizer.fit_transform(X_train)\n",
    "X_test_counts = vectorizer.transform(X_test)\n",
    "\n",
    "tfidf_transformer = TfidfTransformer()\n",
    "X_train_tfidf = tfidf_transformer.fit_transform(X_train_counts)\n",
    "X_test_tfidf = tfidf_transformer.transform(X_test_counts)\n",
    "\n",
    "# Feature selection using chi-squared test\n",
    "k_best = SelectKBest(chi2, k=3000)  # Selecting top 3000 features\n",
    "X_train_selected = k_best.fit_transform(X_train_tfidf, y_train)\n",
    "X_test_selected = k_best.transform(X_test_tfidf)\n",
    "\n",
    "# Train Naïve Bayes classifier before and after feature selection\n",
    "nb_classifier = MultinomialNB()\n",
    "\n",
    "# Without feature selection\n",
    "nb_classifier.fit(X_train_tfidf, y_train)\n",
    "y_pred_no_fs = nb_classifier.predict(X_test_tfidf)\n",
    "acc_no_fs = accuracy_score(y_test, y_pred_no_fs)\n",
    "\n",
    "# With feature selection\n",
    "nb_classifier.fit(X_train_selected, y_train)\n",
    "y_pred_fs = nb_classifier.predict(X_test_selected)\n",
    "acc_fs = accuracy_score(y_test, y_pred_fs)\n",
    "\n",
    "# Compare results\n",
    "print(f\"Accuracy without Feature Selection: {acc_no_fs:.2f}\")\n",
    "print(f\"Accuracy with Feature Selection: {acc_fs:.2f}\")\n",
    "\n",
    "print(\"\\nClassification Report without Feature Selection:\")\n",
    "print(classification_report(y_test, y_pred_no_fs))\n",
    "\n",
    "print(\"\\nClassification Report with Feature Selection:\")\n",
    "print(classification_report(y_test, y_pred_fs))\n"
   ]
  },
  {
   "cell_type": "markdown",
   "metadata": {
    "id": "PORV8BKcmMF1"
   },
   "source": [
    "36.  Write a Python program to train an SVM Classifier using One-vs-Rest (OvR) and One-vs-One (OvO)\n",
    "strategies on the Wine dataset and compare their accuracy."
   ]
  },
  {
   "cell_type": "code",
   "execution_count": 13,
   "metadata": {
    "colab": {
     "base_uri": "https://localhost:8080/"
    },
    "id": "bGSV6fT0qkf_",
    "outputId": "4495fcf6-344d-4503-c797-8034b44aa5f5"
   },
   "outputs": [
    {
     "name": "stdout",
     "output_type": "stream",
     "text": [
      "One-vs-Rest (OvR) Accuracy: 1.00\n",
      "One-vs-One (OvO) Accuracy: 1.00\n",
      "\n",
      "Classification Report for One-vs-Rest (OvR):\n",
      "              precision    recall  f1-score   support\n",
      "\n",
      "           0       1.00      1.00      1.00        14\n",
      "           1       1.00      1.00      1.00        14\n",
      "           2       1.00      1.00      1.00         8\n",
      "\n",
      "    accuracy                           1.00        36\n",
      "   macro avg       1.00      1.00      1.00        36\n",
      "weighted avg       1.00      1.00      1.00        36\n",
      "\n",
      "\n",
      "Classification Report for One-vs-One (OvO):\n",
      "              precision    recall  f1-score   support\n",
      "\n",
      "           0       1.00      1.00      1.00        14\n",
      "           1       1.00      1.00      1.00        14\n",
      "           2       1.00      1.00      1.00         8\n",
      "\n",
      "    accuracy                           1.00        36\n",
      "   macro avg       1.00      1.00      1.00        36\n",
      "weighted avg       1.00      1.00      1.00        36\n",
      "\n"
     ]
    }
   ],
   "source": [
    "import numpy as np\n",
    "import pandas as pd\n",
    "from sklearn.datasets import load_wine\n",
    "from sklearn.svm import SVC\n",
    "from sklearn.model_selection import train_test_split\n",
    "from sklearn.metrics import accuracy_score, classification_report\n",
    "\n",
    "# Load dataset\n",
    "wine = load_wine()\n",
    "X, y = wine.data, wine.target\n",
    "\n",
    "# Split dataset\n",
    "X_train, X_test, y_train, y_test = train_test_split(X, y, test_size=0.2, random_state=42)\n",
    "\n",
    "# Train SVM with One-vs-Rest (OvR)\n",
    "svm_ovr= SVC(kernel= 'linear',decision_function_shape='ovr')\n",
    "svm_ovr.fit(X_train,y_train)\n",
    "y_pred_ovr= svm_ovr.predict(X_test)\n",
    "acc_ovr = accuracy_score(y_test, y_pred_ovr)\n",
    "\n",
    "# Train SVM with One-vs-One (OvO)\n",
    "svm_ovo= SVC(kernel= 'linear',decision_function_shape='ovo')\n",
    "svm_ovo.fit(X_train,y_train)\n",
    "y_pred_ovo = svm_ovo.predict(X_test)\n",
    "acc_ovo = accuracy_score(y_test, y_pred_ovo)\n",
    "\n",
    "# Compare results\n",
    "print(f\"One-vs-Rest (OvR) Accuracy: {acc_ovr:.2f}\")\n",
    "print(f\"One-vs-One (OvO) Accuracy: {acc_ovo:.2f}\")\n",
    "\n",
    "print(\"\\nClassification Report for One-vs-Rest (OvR):\")\n",
    "print(classification_report(y_test, y_pred_ovr))\n",
    "\n",
    "print(\"\\nClassification Report for One-vs-One (OvO):\")\n",
    "print(classification_report(y_test, y_pred_ovo))\n"
   ]
  },
  {
   "cell_type": "markdown",
   "metadata": {
    "id": "cChUsVVHxcFJ"
   },
   "source": [
    "37. Write a Python program to train an SVM Classifier using Linear, Polynomial, and RBF kernels on the Breast\n",
    "Cancer dataset and compare their accuracy."
   ]
  },
  {
   "cell_type": "code",
   "execution_count": 14,
   "metadata": {
    "colab": {
     "base_uri": "https://localhost:8080/"
    },
    "id": "0Crg9-CRxl2Q",
    "outputId": "7d235d6a-d26c-4053-b9b5-caa24cfe28d1"
   },
   "outputs": [
    {
     "name": "stdout",
     "output_type": "stream",
     "text": [
      "Linear Kernel Accuracy: 0.96\n",
      "Polynomial Kernel Accuracy: 0.95\n",
      "RBF Kernel Accuracy: 0.95\n",
      "\n",
      "Classification Report for Linear Kernel:\n",
      "              precision    recall  f1-score   support\n",
      "\n",
      "           0       0.97      0.91      0.94        43\n",
      "           1       0.95      0.99      0.97        71\n",
      "\n",
      "    accuracy                           0.96       114\n",
      "   macro avg       0.96      0.95      0.95       114\n",
      "weighted avg       0.96      0.96      0.96       114\n",
      "\n",
      "\n",
      "Classification Report for Polynomial Kernel:\n",
      "              precision    recall  f1-score   support\n",
      "\n",
      "           0       1.00      0.86      0.93        43\n",
      "           1       0.92      1.00      0.96        71\n",
      "\n",
      "    accuracy                           0.95       114\n",
      "   macro avg       0.96      0.93      0.94       114\n",
      "weighted avg       0.95      0.95      0.95       114\n",
      "\n",
      "\n",
      "Classification Report for RBF Kernel:\n",
      "              precision    recall  f1-score   support\n",
      "\n",
      "           0       1.00      0.86      0.93        43\n",
      "           1       0.92      1.00      0.96        71\n",
      "\n",
      "    accuracy                           0.95       114\n",
      "   macro avg       0.96      0.93      0.94       114\n",
      "weighted avg       0.95      0.95      0.95       114\n",
      "\n"
     ]
    }
   ],
   "source": [
    "import numpy as np\n",
    "import pandas as pd\n",
    "from sklearn.datasets import load_breast_cancer\n",
    "from sklearn.svm import SVC\n",
    "from sklearn.model_selection import train_test_split\n",
    "from sklearn.metrics import accuracy_score, classification_report\n",
    "\n",
    "# Load dataset\n",
    "cancer = load_breast_cancer()\n",
    "X, y = cancer.data, cancer.target\n",
    "\n",
    "# Split dataset\n",
    "X_train, X_test, y_train, y_test = train_test_split(X, y, test_size=0.2, random_state=42)\n",
    "\n",
    "# Train SVM with Linear kernel\n",
    "svm_linear = SVC(kernel=\"linear\")\n",
    "svm_linear.fit(X_train, y_train)\n",
    "y_pred_linear = svm_linear.predict(X_test)\n",
    "acc_linear = accuracy_score(y_test, y_pred_linear)\n",
    "\n",
    "# Train SVM with Polynomial kernel\n",
    "svm_poly = SVC(kernel=\"poly\", degree=3)\n",
    "svm_poly.fit(X_train, y_train)\n",
    "y_pred_poly = svm_poly.predict(X_test)\n",
    "acc_poly = accuracy_score(y_test, y_pred_poly)\n",
    "\n",
    "# Train SVM with RBF kernel\n",
    "svm_rbf = SVC(kernel=\"rbf\")\n",
    "svm_rbf.fit(X_train, y_train)\n",
    "y_pred_rbf = svm_rbf.predict(X_test)\n",
    "acc_rbf = accuracy_score(y_test, y_pred_rbf)\n",
    "\n",
    "# Compare results\n",
    "print(f\"Linear Kernel Accuracy: {acc_linear:.2f}\")\n",
    "print(f\"Polynomial Kernel Accuracy: {acc_poly:.2f}\")\n",
    "print(f\"RBF Kernel Accuracy: {acc_rbf:.2f}\")\n",
    "\n",
    "print(\"\\nClassification Report for Linear Kernel:\")\n",
    "print(classification_report(y_test, y_pred_linear))\n",
    "\n",
    "print(\"\\nClassification Report for Polynomial Kernel:\")\n",
    "print(classification_report(y_test, y_pred_poly))\n",
    "\n",
    "print(\"\\nClassification Report for RBF Kernel:\")\n",
    "print(classification_report(y_test, y_pred_rbf))\n"
   ]
  },
  {
   "cell_type": "markdown",
   "metadata": {
    "id": "B1X6CZpWxu8h"
   },
   "source": [
    "38. Write a Python program to train an SVM Classifier using Stratified K-Fold Cross-Validation and compute the\n",
    "average accuracy."
   ]
  },
  {
   "cell_type": "code",
   "execution_count": 21,
   "metadata": {
    "colab": {
     "base_uri": "https://localhost:8080/"
    },
    "id": "iT6--MpdyKG5",
    "outputId": "47ebdad7-00ce-466a-ef0b-3a3234468564"
   },
   "outputs": [
    {
     "name": "stdout",
     "output_type": "stream",
     "text": [
      "Cross-Validation Accuracies: [0.94444444 1.         0.94444444 0.97142857 1.        ]\n",
      "Average Accuracy: 0.97\n"
     ]
    }
   ],
   "source": [
    "import numpy as np\n",
    "import pandas as pd\n",
    "from sklearn.datasets import load_wine\n",
    "from sklearn.svm import SVC\n",
    "from sklearn.model_selection import StratifiedKFold, cross_val_score\n",
    "\n",
    "# Load dataset\n",
    "wine = load_wine()\n",
    "X, y = wine.data, wine.target\n",
    "\n",
    "# Define Stratified K-Fold Cross-Validation\n",
    "skf = StratifiedKFold(n_splits=5, shuffle=True, random_state=42)\n",
    "\n",
    "# Define SVM classifier\n",
    "svm = SVC(kernel=\"linear\")\n",
    "\n",
    "# Perform cross-validation and compute average accuracy\n",
    "scores = cross_val_score(svm, X, y, cv=skf, scoring=\"accuracy\")\n",
    "avg_accuracy = np.mean(scores)\n",
    "\n",
    "# Display results\n",
    "print(f\"Cross-Validation Accuracies: {scores}\")\n",
    "print(f\"Average Accuracy: {avg_accuracy:.2f}\")\n"
   ]
  },
  {
   "cell_type": "markdown",
   "metadata": {
    "id": "9pT6q6e52x2N"
   },
   "source": [
    "**39. Write a Python program to train a Naïve Bayes classifier using different prior probabilities and compare performance.**"
   ]
  },
  {
   "cell_type": "code",
   "execution_count": 22,
   "metadata": {
    "colab": {
     "base_uri": "https://localhost:8080/"
    },
    "id": "Dn-6GcDT3Dpp",
    "outputId": "c2616091-a350-483e-c206-abf155d4ca1c"
   },
   "outputs": [
    {
     "name": "stdout",
     "output_type": "stream",
     "text": [
      "\n",
      "Model 1 (priors = None):\n",
      "Accuracy: 0.97\n",
      "Classification Report:\n",
      "              precision    recall  f1-score   support\n",
      "\n",
      "           0       1.00      1.00      1.00        10\n",
      "           1       1.00      0.90      0.95        10\n",
      "           2       0.91      1.00      0.95        10\n",
      "\n",
      "    accuracy                           0.97        30\n",
      "   macro avg       0.97      0.97      0.97        30\n",
      "weighted avg       0.97      0.97      0.97        30\n",
      "\n",
      "\n",
      "Model 2 (priors = [0.5, 0.3, 0.2]):\n",
      "Accuracy: 0.93\n",
      "Classification Report:\n",
      "              precision    recall  f1-score   support\n",
      "\n",
      "           0       1.00      1.00      1.00        10\n",
      "           1       0.90      0.90      0.90        10\n",
      "           2       0.90      0.90      0.90        10\n",
      "\n",
      "    accuracy                           0.93        30\n",
      "   macro avg       0.93      0.93      0.93        30\n",
      "weighted avg       0.93      0.93      0.93        30\n",
      "\n",
      "\n",
      "Model 3 (priors = [0.2, 0.5, 0.3]):\n",
      "Accuracy: 0.93\n",
      "Classification Report:\n",
      "              precision    recall  f1-score   support\n",
      "\n",
      "           0       1.00      1.00      1.00        10\n",
      "           1       0.90      0.90      0.90        10\n",
      "           2       0.90      0.90      0.90        10\n",
      "\n",
      "    accuracy                           0.93        30\n",
      "   macro avg       0.93      0.93      0.93        30\n",
      "weighted avg       0.93      0.93      0.93        30\n",
      "\n"
     ]
    }
   ],
   "source": [
    "import numpy as np\n",
    "import pandas as pd\n",
    "from sklearn.datasets import load_iris\n",
    "from sklearn.naive_bayes import GaussianNB\n",
    "from sklearn.model_selection import train_test_split\n",
    "from sklearn.metrics import accuracy_score, classification_report\n",
    "\n",
    "# Load dataset\n",
    "iris = load_iris()\n",
    "X, y = iris.data, iris.target\n",
    "\n",
    "# Split dataset\n",
    "X_train, X_test, y_train, y_test = train_test_split(X, y, test_size=0.2, random_state=42, stratify=y)\n",
    "\n",
    "# Define prior probabilities for each class\n",
    "priors_list = [\n",
    "    None,  # Default priors (based on class frequencies)\n",
    "    [0.5, 0.3, 0.2],  # Custom priors with different weights\n",
    "    [0.2, 0.5, 0.3]   # Another variation of priors\n",
    "]\n",
    "\n",
    "# Train models with different priors and evaluate\n",
    "for i, priors in enumerate(priors_list):\n",
    "    nb_classifier = GaussianNB(priors=priors)  # Apply custom priors\n",
    "    nb_classifier.fit(X_train, y_train)  # Train model\n",
    "    y_pred = nb_classifier.predict(X_test)  # Predict on test data\n",
    "\n",
    "    acc = accuracy_score(y_test, y_pred)  # Compute accuracy\n",
    "    print(f\"\\nModel {i+1} (priors = {priors}):\")\n",
    "    print(f\"Accuracy: {acc:.2f}\")\n",
    "    print(\"Classification Report:\")\n",
    "    print(classification_report(y_test, y_pred))\n"
   ]
  },
  {
   "cell_type": "markdown",
   "metadata": {
    "id": "zd_ocvJ43KuH"
   },
   "source": [
    "40. Write a Python program to perform Recursive Feature Elimination (RFE) before training an SVM Classifier and\n",
    "compare accuracy. **bold text**"
   ]
  },
  {
   "cell_type": "code",
   "execution_count": 23,
   "metadata": {
    "colab": {
     "base_uri": "https://localhost:8080/"
    },
    "id": "Ksb7Txxc3SjK",
    "outputId": "7f7dffb5-780f-4f6c-92d5-e55355b5ba29"
   },
   "outputs": [
    {
     "name": "stdout",
     "output_type": "stream",
     "text": [
      "Accuracy with RFE: 0.97\n",
      "Accuracy without RFE: 0.96\n",
      "\n",
      "Classification Report (With RFE):\n",
      "              precision    recall  f1-score   support\n",
      "\n",
      "           0       0.95      0.98      0.97        43\n",
      "           1       0.99      0.97      0.98        71\n",
      "\n",
      "    accuracy                           0.97       114\n",
      "   macro avg       0.97      0.97      0.97       114\n",
      "weighted avg       0.97      0.97      0.97       114\n",
      "\n",
      "\n",
      "Classification Report (Without RFE):\n",
      "              precision    recall  f1-score   support\n",
      "\n",
      "           0       0.97      0.91      0.94        43\n",
      "           1       0.95      0.99      0.97        71\n",
      "\n",
      "    accuracy                           0.96       114\n",
      "   macro avg       0.96      0.95      0.95       114\n",
      "weighted avg       0.96      0.96      0.96       114\n",
      "\n"
     ]
    }
   ],
   "source": [
    "import numpy as np\n",
    "import pandas as pd\n",
    "from sklearn.datasets import load_breast_cancer\n",
    "from sklearn.svm import SVC\n",
    "from sklearn.model_selection import train_test_split\n",
    "from sklearn.feature_selection import RFE\n",
    "from sklearn.metrics import accuracy_score, classification_report\n",
    "\n",
    "# Load dataset\n",
    "cancer = load_breast_cancer()\n",
    "X, y = cancer.data, cancer.target\n",
    "\n",
    "# Split dataset\n",
    "X_train, X_test, y_train, y_test = train_test_split(X, y, test_size=0.2, random_state=42)\n",
    "\n",
    "# Define SVM classifier\n",
    "svm = SVC(kernel=\"linear\")\n",
    "\n",
    "# Apply Recursive Feature Elimination (RFE)\n",
    "rfe = RFE(estimator=svm, n_features_to_select=10)  # Select top 10 features\n",
    "X_train_selected = rfe.fit_transform(X_train, y_train)\n",
    "X_test_selected = rfe.transform(X_test)\n",
    "\n",
    "# Train SVM on selected features\n",
    "svm.fit(X_train_selected, y_train)\n",
    "y_pred_rfe = svm.predict(X_test_selected)\n",
    "\n",
    "# Train SVM on full feature set (for comparison)\n",
    "svm.fit(X_train, y_train)\n",
    "y_pred_full = svm.predict(X_test)\n",
    "\n",
    "# Evaluate performance\n",
    "acc_rfe = accuracy_score(y_test, y_pred_rfe)\n",
    "acc_full = accuracy_score(y_test, y_pred_full)\n",
    "\n",
    "print(f\"Accuracy with RFE: {acc_rfe:.2f}\")\n",
    "print(f\"Accuracy without RFE: {acc_full:.2f}\")\n",
    "\n",
    "print(\"\\nClassification Report (With RFE):\")\n",
    "print(classification_report(y_test, y_pred_rfe))\n",
    "\n",
    "print(\"\\nClassification Report (Without RFE):\")\n",
    "print(classification_report(y_test, y_pred_full))\n"
   ]
  },
  {
   "cell_type": "markdown",
   "metadata": {
    "id": "WmOjARyl3cTh"
   },
   "source": [
    "41.  Write a Python program to train an SVM Classifier and evaluate its performance using Precision, Recall, and\n",
    "F1-Score instead of accuracy. **bold text**"
   ]
  },
  {
   "cell_type": "code",
   "execution_count": 24,
   "metadata": {
    "colab": {
     "base_uri": "https://localhost:8080/"
    },
    "id": "t2ZIz2UM3q4p",
    "outputId": "71578642-6a72-4a4c-8e09-8b3d75d19196"
   },
   "outputs": [
    {
     "name": "stdout",
     "output_type": "stream",
     "text": [
      "Precision: 0.95\n",
      "Recall: 0.99\n",
      "F1-Score: 0.97\n",
      "\n",
      "Detailed Classification Report:\n",
      "              precision    recall  f1-score   support\n",
      "\n",
      "           0       0.97      0.91      0.94        43\n",
      "           1       0.95      0.99      0.97        71\n",
      "\n",
      "    accuracy                           0.96       114\n",
      "   macro avg       0.96      0.95      0.95       114\n",
      "weighted avg       0.96      0.96      0.96       114\n",
      "\n"
     ]
    }
   ],
   "source": [
    "import numpy as np\n",
    "import pandas as pd\n",
    "from sklearn.datasets import load_breast_cancer\n",
    "from sklearn.svm import SVC\n",
    "from sklearn.model_selection import train_test_split\n",
    "from sklearn.metrics import precision_score, recall_score, f1_score, classification_report\n",
    "\n",
    "# Load dataset\n",
    "cancer = load_breast_cancer()\n",
    "X, y = cancer.data, cancer.target\n",
    "\n",
    "# Split dataset\n",
    "X_train, X_test, y_train, y_test = train_test_split(X, y, test_size=0.2, random_state=42)\n",
    "\n",
    "# Train SVM Classifier\n",
    "svm = SVC(kernel=\"linear\")\n",
    "svm.fit(X_train, y_train)\n",
    "y_pred = svm.predict(X_test)\n",
    "\n",
    "# Compute Precision, Recall, and F1-Score\n",
    "precision = precision_score(y_test, y_pred)\n",
    "recall = recall_score(y_test, y_pred)\n",
    "f1 = f1_score(y_test, y_pred)\n",
    "\n",
    "# Display results\n",
    "print(f\"Precision: {precision:.2f}\")\n",
    "print(f\"Recall: {recall:.2f}\")\n",
    "print(f\"F1-Score: {f1:.2f}\")\n",
    "\n",
    "print(\"\\nDetailed Classification Report:\")\n",
    "print(classification_report(y_test, y_pred))\n"
   ]
  },
  {
   "cell_type": "markdown",
   "metadata": {
    "id": "RdHXAgnh3wj7"
   },
   "source": [
    "42. Write a Python program to train a Naïve Bayes Classifier and evaluate its performance using Log Loss\n",
    "(Cross-Entropy Loss). **bold text**"
   ]
  },
  {
   "cell_type": "code",
   "execution_count": 25,
   "metadata": {
    "colab": {
     "base_uri": "https://localhost:8080/"
    },
    "id": "tSqi4joE3_fU",
    "outputId": "03e59518-f7e9-441a-d34e-14457983b436"
   },
   "outputs": [
    {
     "name": "stdout",
     "output_type": "stream",
     "text": [
      "Log Loss (Cross-Entropy Loss): 0.0263\n"
     ]
    }
   ],
   "source": [
    "import numpy as np\n",
    "import pandas as pd\n",
    "from sklearn.datasets import load_iris\n",
    "from sklearn.naive_bayes import GaussianNB\n",
    "from sklearn.model_selection import train_test_split\n",
    "from sklearn.metrics import log_loss\n",
    "\n",
    "# Load dataset\n",
    "iris = load_iris()\n",
    "X, y = iris.data, iris.target\n",
    "\n",
    "# Split dataset\n",
    "X_train, X_test, y_train, y_test = train_test_split(X, y, test_size=0.2, random_state=42)\n",
    "\n",
    "# Train Naïve Bayes classifier\n",
    "nb_classifier = GaussianNB()\n",
    "nb_classifier.fit(X_train, y_train)\n",
    "\n",
    "# Predict probabilities\n",
    "y_pred_proba = nb_classifier.predict_proba(X_test)\n",
    "\n",
    "# Compute Log Loss\n",
    "loss = log_loss(y_test, y_pred_proba)\n",
    "\n",
    "# Display result\n",
    "print(f\"Log Loss (Cross-Entropy Loss): {loss:.4f}\")\n"
   ]
  },
  {
   "cell_type": "markdown",
   "metadata": {
    "id": "bqiBxqPz4FYX"
   },
   "source": [
    "**43.  Write a Python program to train an SVM Classifier and visualize the Confusion Matrix using seaborn.**"
   ]
  },
  {
   "cell_type": "code",
   "execution_count": 29,
   "metadata": {
    "colab": {
     "base_uri": "https://localhost:8080/",
     "height": 589
    },
    "id": "tySGR_gm4zNU",
    "outputId": "cba59200-caa0-4ea5-f03c-667464d66544"
   },
   "outputs": [
    {
     "data": {
      "image/png": "[encoded data removed]",
      "text/plain": [
       "<Figure size 600x400 with 2 Axes>"
      ]
     },
     "metadata": {},
     "output_type": "display_data"
    },
    {
     "name": "stdout",
     "output_type": "stream",
     "text": [
      "Classification Report:\n",
      "              precision    recall  f1-score   support\n",
      "\n",
      "           0       0.97      0.91      0.94        43\n",
      "           1       0.95      0.99      0.97        71\n",
      "\n",
      "    accuracy                           0.96       114\n",
      "   macro avg       0.96      0.95      0.95       114\n",
      "weighted avg       0.96      0.96      0.96       114\n",
      "\n"
     ]
    }
   ],
   "source": [
    "import numpy as np\n",
    "import pandas as pd\n",
    "import seaborn as sns\n",
    "import matplotlib.pyplot as plt\n",
    "from sklearn.datasets import load_breast_cancer\n",
    "from sklearn.svm import SVC\n",
    "from sklearn.model_selection import train_test_split\n",
    "from sklearn.metrics import confusion_matrix, classification_report\n",
    "\n",
    "# Load dataset\n",
    "cancer = load_breast_cancer()\n",
    "X, y = cancer.data, cancer.target\n",
    "\n",
    "# Split dataset\n",
    "X_train, X_test, y_train, y_test = train_test_split(X, y, test_size=0.2, random_state=42)\n",
    "\n",
    "# Train SVM classifier\n",
    "svm = SVC(kernel=\"linear\")\n",
    "svm.fit(X_train, y_train)\n",
    "y_pred = svm.predict(X_test)\n",
    "\n",
    "# Compute Confusion Matrix\n",
    "cm = confusion_matrix(y_test, y_pred)\n",
    "\n",
    "#visualization using seaborn\n",
    "plt.figure(figsize=(6,4))\n",
    "sns.heatmap(cm,annot=True) # using seaborn\n",
    "plt.xlabel('Predcited')\n",
    "plt.ylabel('Actual')\n",
    "plt.title('Confusion matrix for svr classifier')\n",
    "plt.show()\n",
    "\n",
    "# Display classification report\n",
    "print(\"Classification Report:\")\n",
    "print(classification_report(y_test, y_pred))"
   ]
  },
  {
   "cell_type": "markdown",
   "metadata": {
    "id": "fnDLznKi6Jwy"
   },
   "source": [
    "44. Write a Python program to train an SVM Regressor (SVR) and evaluate its performance using Mean Absolute\n",
    "Error (MAE) instead of MSE. **bold text**"
   ]
  },
  {
   "cell_type": "code",
   "execution_count": 32,
   "metadata": {
    "colab": {
     "base_uri": "https://localhost:8080/"
    },
    "id": "Y7o_hVHs6V70",
    "outputId": "a4dfa57a-0c6c-4a84-bf94-fc74ece6df1a"
   },
   "outputs": [
    {
     "name": "stdout",
     "output_type": "stream",
     "text": [
      "Mean Absolute Error (MAE): 0.82\n"
     ]
    }
   ],
   "source": [
    "import numpy as np\n",
    "import pandas as pd\n",
    "from sklearn.datasets import fetch_california_housing\n",
    "from sklearn.svm import SVR\n",
    "from sklearn.model_selection import train_test_split\n",
    "from sklearn.metrics import mean_absolute_error\n",
    "\n",
    "# Load dataset\n",
    "data = fetch_california_housing()\n",
    "X, y = data.data, data.target  # Features and target variable (median house price)\n",
    "\n",
    "# Split dataset\n",
    "X_train, X_test, y_train, y_test = train_test_split(X, y, test_size=0.2, random_state=42)\n",
    "\n",
    "# Train SVM Regressor with RBF kernel\n",
    "svr = SVR(kernel=\"rbf\", C=100, gamma=0.1, epsilon=0.1)  # Fine-tuned hyperparameters\n",
    "svr.fit(X_train, y_train)\n",
    "\n",
    "# Predict on test data\n",
    "y_pred = svr.predict(X_test)\n",
    "\n",
    "mae= mean_absolute_error(y_pred,y_test)\n",
    "\n",
    "# Display results\n",
    "print(f\"Mean Absolute Error (MAE): {mae:.2f}\")"
   ]
  },
  {
   "cell_type": "markdown",
   "metadata": {
    "id": "NwB-nF2Q6_f7"
   },
   "source": [
    "45. Write a Python program to train a Naïve Bayes classifier and evaluate its performance using the ROC-AUC\n",
    "score."
   ]
  },
  {
   "cell_type": "code",
   "execution_count": 33,
   "metadata": {
    "colab": {
     "base_uri": "https://localhost:8080/"
    },
    "id": "7ylWypvO7OMf",
    "outputId": "985affc5-b1fb-491e-cedc-814cdcdf8147"
   },
   "outputs": [
    {
     "name": "stdout",
     "output_type": "stream",
     "text": [
      "ROC-AUC Score: 0.9984\n"
     ]
    }
   ],
   "source": [
    "import numpy as np\n",
    "import pandas as pd\n",
    "from sklearn.datasets import load_breast_cancer\n",
    "from sklearn.naive_bayes import GaussianNB\n",
    "from sklearn.model_selection import train_test_split\n",
    "from sklearn.metrics import roc_auc_score\n",
    "\n",
    "# Load dataset\n",
    "cancer = load_breast_cancer()\n",
    "X, y = cancer.data, cancer.target  # Features & labels\n",
    "\n",
    "# Split dataset\n",
    "X_train, X_test, y_train, y_test = train_test_split(X, y, test_size=0.2, random_state=42)\n",
    "\n",
    "# Train Naïve Bayes classifier\n",
    "nb_classifier = GaussianNB()\n",
    "nb_classifier.fit(X_train, y_train)\n",
    "\n",
    "# Predict probabilities (needed for ROC-AUC)\n",
    "y_pred_proba = nb_classifier.predict_proba(X_test)[:, 1]  # Selecting probability for positive class (1)\n",
    "\n",
    "# Compute ROC-AUC score\n",
    "roc_auc = roc_auc_score(y_test, y_pred_proba)\n",
    "\n",
    "# Display result\n",
    "print(f\"ROC-AUC Score: {roc_auc:.4f}\")\n"
   ]
  },
  {
   "cell_type": "markdown",
   "metadata": {
    "id": "sdRV4baZ7TsD"
   },
   "source": [
    "**46. Write a Python program to train an SVM Classifier and visualize the Precision-Recall Curve**."
   ]
  },
  {
   "cell_type": "code",
   "execution_count": 34,
   "metadata": {
    "colab": {
     "base_uri": "https://localhost:8080/",
     "height": 487
    },
    "id": "e-KIPLcY7c3x",
    "outputId": "356d955b-b61f-44e2-813c-86f187661167"
   },
   "outputs": [
    {
     "data": {
      "image/png": "[encoded data removed]",
      "text/plain": [
       "<Figure size 600x500 with 1 Axes>"
      ]
     },
     "metadata": {},
     "output_type": "display_data"
    }
   ],
   "source": [
    "import numpy as np\n",
    "import pandas as pd\n",
    "import matplotlib.pyplot as plt\n",
    "from sklearn.datasets import load_breast_cancer\n",
    "from sklearn.svm import SVC\n",
    "from sklearn.model_selection import train_test_split\n",
    "from sklearn.metrics import precision_recall_curve, auc\n",
    "\n",
    "# Load dataset\n",
    "cancer = load_breast_cancer()\n",
    "X, y = cancer.data, cancer.target  # Features & labels\n",
    "\n",
    "# Split dataset\n",
    "X_train, X_test, y_train, y_test = train_test_split(X, y, test_size=0.2, random_state=42)\n",
    "\n",
    "# Train SVM classifier\n",
    "svm = SVC(kernel=\"linear\", probability=True)  # Enable probability estimates for precision-recall curve\n",
    "svm.fit(X_train, y_train)\n",
    "\n",
    "# Predict probabilities (needed for Precision-Recall curve)\n",
    "y_scores = svm.predict_proba(X_test)[:, 1]  # Probability for positive class (1)\n",
    "\n",
    "# Compute Precision-Recall Curve\n",
    "precision, recall, _ = precision_recall_curve(y_test, y_scores)\n",
    "pr_auc = auc(recall, precision)  # Compute area under the Precision-Recall Curve\n",
    "\n",
    "# Visualize Precision-Recall Curve\n",
    "plt.figure(figsize=(6, 5))\n",
    "plt.plot(recall, precision, label=f\"Precision-Recall Curve (AUC = {pr_auc:.2f})\", color=\"blue\")\n",
    "plt.xlabel(\"Recall\")\n",
    "plt.ylabel(\"Precision\")\n",
    "plt.title(\"Precision-Recall Curve for SVM Classifier\")\n",
    "plt.legend()\n",
    "plt.grid()\n",
    "plt.show()\n"
   ]
  }
 ],
 "metadata": {
  "colab": {
   "provenance": []
  },
  "kernelspec": {
   "display_name": "Python 3 (ipykernel)",
   "language": "python",
   "name": "python3"
  },
  "language_info": {
   "codemirror_mode": {
    "name": "ipython",
    "version": 3
   },
   "file_extension": ".py",
   "mimetype": "text/x-python",
   "name": "python",
   "nbconvert_exporter": "python",
   "pygments_lexer": "ipython3",
   "version": "3.12.7"
  }
 },
 "nbformat": 4,
 "nbformat_minor": 4
}
